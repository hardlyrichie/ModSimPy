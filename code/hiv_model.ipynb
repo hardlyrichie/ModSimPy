{
 "cells": [
  {
   "cell_type": "markdown",
   "metadata": {},
   "source": [
    "# HIV Model\n",
    "\n",
    "Richard Gao"
   ]
  },
  {
   "cell_type": "code",
   "execution_count": 144,
   "metadata": {},
   "outputs": [],
   "source": [
    "# Configure Jupyter so figures appear in the notebook\n",
    "%matplotlib inline\n",
    "\n",
    "# Configure Jupyter to display the assigned value after an assignment\n",
    "%config InteractiveShell.ast_node_interactivity='last_expr_or_assign'\n",
    "\n",
    "# import functions from the modsim.py module\n",
    "from modsim import *"
   ]
  },
  {
   "cell_type": "code",
   "execution_count": 150,
   "metadata": {},
   "outputs": [
    {
     "data": {
      "text/html": [
       "<div>\n",
       "<style scoped>\n",
       "    .dataframe tbody tr th:only-of-type {\n",
       "        vertical-align: middle;\n",
       "    }\n",
       "\n",
       "    .dataframe tbody tr th {\n",
       "        vertical-align: top;\n",
       "    }\n",
       "\n",
       "    .dataframe thead th {\n",
       "        text-align: right;\n",
       "    }\n",
       "</style>\n",
       "<table border=\"1\" class=\"dataframe\">\n",
       "  <thead>\n",
       "    <tr style=\"text-align: right;\">\n",
       "      <th></th>\n",
       "      <th>values</th>\n",
       "    </tr>\n",
       "  </thead>\n",
       "  <tbody>\n",
       "    <tr>\n",
       "      <th>R</th>\n",
       "      <td>1000</td>\n",
       "    </tr>\n",
       "    <tr>\n",
       "      <th>L</th>\n",
       "      <td>0</td>\n",
       "    </tr>\n",
       "    <tr>\n",
       "      <th>E</th>\n",
       "      <td>0</td>\n",
       "    </tr>\n",
       "    <tr>\n",
       "      <th>V</th>\n",
       "      <td>1</td>\n",
       "    </tr>\n",
       "  </tbody>\n",
       "</table>\n",
       "</div>"
      ],
      "text/plain": [
       "R    1000\n",
       "L       0\n",
       "E       0\n",
       "V       1\n",
       "dtype: int64"
      ]
     },
     "execution_count": 150,
     "metadata": {},
     "output_type": "execute_result"
    }
   ],
   "source": [
    "# Set initial state\n",
    "init = State(R = 1000,\n",
    "             L = 0,\n",
    "             E = 0,\n",
    "             V = 1)"
   ]
  },
  {
   "cell_type": "code",
   "execution_count": 151,
   "metadata": {},
   "outputs": [
    {
     "data": {
      "text/html": [
       "<div>\n",
       "<style scoped>\n",
       "    .dataframe tbody tr th:only-of-type {\n",
       "        vertical-align: middle;\n",
       "    }\n",
       "\n",
       "    .dataframe tbody tr th {\n",
       "        vertical-align: top;\n",
       "    }\n",
       "\n",
       "    .dataframe thead th {\n",
       "        text-align: right;\n",
       "    }\n",
       "</style>\n",
       "<table border=\"1\" class=\"dataframe\">\n",
       "  <thead>\n",
       "    <tr style=\"text-align: right;\">\n",
       "      <th></th>\n",
       "      <th>values</th>\n",
       "    </tr>\n",
       "  </thead>\n",
       "  <tbody>\n",
       "    <tr>\n",
       "      <th>R_birthrate</th>\n",
       "      <td>1.36</td>\n",
       "    </tr>\n",
       "    <tr>\n",
       "      <th>R_activation_rate</th>\n",
       "      <td>0.2</td>\n",
       "    </tr>\n",
       "    <tr>\n",
       "      <th>R_death_rate</th>\n",
       "      <td>0.00136</td>\n",
       "    </tr>\n",
       "    <tr>\n",
       "      <th>R_infection_rate</th>\n",
       "      <td>0.00027</td>\n",
       "    </tr>\n",
       "    <tr>\n",
       "      <th>L_activation_rate</th>\n",
       "      <td>0.036</td>\n",
       "    </tr>\n",
       "    <tr>\n",
       "      <th>latent_infec_rate</th>\n",
       "      <td>0.1</td>\n",
       "    </tr>\n",
       "    <tr>\n",
       "      <th>E_death_rate</th>\n",
       "      <td>0.33</td>\n",
       "    </tr>\n",
       "    <tr>\n",
       "      <th>V_birth_rate</th>\n",
       "      <td>100</td>\n",
       "    </tr>\n",
       "    <tr>\n",
       "      <th>V_death_rate</th>\n",
       "      <td>2</td>\n",
       "    </tr>\n",
       "    <tr>\n",
       "      <th>init</th>\n",
       "      <td>R    1000\n",
       "L       0\n",
       "E       0\n",
       "V       1\n",
       "dtype:...</td>\n",
       "    </tr>\n",
       "    <tr>\n",
       "      <th>t_0</th>\n",
       "      <td>0</td>\n",
       "    </tr>\n",
       "    <tr>\n",
       "      <th>t_end</th>\n",
       "      <td>100</td>\n",
       "    </tr>\n",
       "    <tr>\n",
       "      <th>dt</th>\n",
       "      <td>0.1</td>\n",
       "    </tr>\n",
       "  </tbody>\n",
       "</table>\n",
       "</div>"
      ],
      "text/plain": [
       "R_birthrate                                                       1.36\n",
       "R_activation_rate                                                  0.2\n",
       "R_death_rate                                                   0.00136\n",
       "R_infection_rate                                               0.00027\n",
       "L_activation_rate                                                0.036\n",
       "latent_infec_rate                                                  0.1\n",
       "E_death_rate                                                      0.33\n",
       "V_birth_rate                                                       100\n",
       "V_death_rate                                                         2\n",
       "init                 R    1000\n",
       "L       0\n",
       "E       0\n",
       "V       1\n",
       "dtype:...\n",
       "t_0                                                                  0\n",
       "t_end                                                              100\n",
       "dt                                                                 0.1\n",
       "dtype: object"
      ]
     },
     "execution_count": 151,
     "metadata": {},
     "output_type": "execute_result"
    }
   ],
   "source": [
    "# Define System\n",
    "system = System(R_birthrate = 1.36,                # Gamma\n",
    "                R_activation_rate = 0.2,           # tao\n",
    "                R_death_rate = 0.00136,            # mu\n",
    "                R_infection_rate = 0.00027,        # Beta\n",
    "                L_activation_rate = 0.036,         # alpha\n",
    "                latent_infec_rate = 0.1,           # rho\n",
    "                E_death_rate = 0.33,               # delta\n",
    "                V_birth_rate = 100,                # pi\n",
    "                V_death_rate = 2,                  # sigma\n",
    "                init=init,\n",
    "                t_0=0,\n",
    "                t_end=100,\n",
    "                dt=.1)                  "
   ]
  },
  {
   "cell_type": "code",
   "execution_count": 147,
   "metadata": {},
   "outputs": [],
   "source": [
    "def plot_results(R, L, E, V):\n",
    "    plot(R, '-r', label='Uninfected lymphocytes')\n",
    "    plot(L, '-g', label='Latently infected cells')\n",
    "    plot(E, '-b', label='Actively infected cells')\n",
    "    plot(V, '-y', label='Free virions')\n",
    "    decorate(xlabel='Time (days)',\n",
    "             ylabel='Fraction of population')"
   ]
  },
  {
   "cell_type": "code",
   "execution_count": 148,
   "metadata": {},
   "outputs": [],
   "source": [
    "def update_func(state, dt, system):\n",
    "    unpack(system)\n",
    "    r, l, e, v = state\n",
    "    \n",
    "    delta_R = (R_birthrate * R_activation_rate) - (R_death_rate * r) - (R_infection_rate * r * v)\n",
    "    delta_L = (latent_infec_rate * R_infection_rate * r * v) - (R_death_rate * l) - (L_activation_rate * l)\n",
    "    delta_E = ((1-latent_infec_rate) * R_infection_rate * v * r) + (L_activation_rate * l) - (E_death_rate * e)\n",
    "    delta_V = (V_birth_rate * e) - (V_death_rate * v)\n",
    "    \n",
    "    r += delta_R * dt\n",
    "    l += delta_L * dt\n",
    "    e += delta_E * dt\n",
    "    v += delta_V * dt\n",
    "    \n",
    "    return State(R=r, L=l, E=e, V=v)"
   ]
  },
  {
   "cell_type": "markdown",
   "metadata": {},
   "source": [
    "run_simulation creates a TimeFrame to store the Timeseries that are defined in individual timesteps. The timesteps is necessary to explicity state because the dt is a non-integer value. Perfoming computations using small non-integer values often results in rounding issues. By creating a Series (timesteps) that hold the value of t in each index (specified by linspace), the values of t will not be inaccurate."
   ]
  },
  {
   "cell_type": "code",
   "execution_count": 152,
   "metadata": {},
   "outputs": [],
   "source": [
    "def run_simulation(system, update_func):\n",
    "    unpack(system)\n",
    "    \n",
    "    frame = TimeFrame(columns=init.index)\n",
    "    frame.row[t0] = init\n",
    "    \n",
    "    steps = linspace(t0, t_end, int(t_end / dt))\n",
    "    timesteps = Series(steps)\n",
    "    \n",
    "    for t in timesteps.index[:-1]:\n",
    "        frame.row[timesteps[t+1]] = update_func(frame.row[timesteps[t]], dt, system)\n",
    "        \n",
    "    return frame"
   ]
  },
  {
   "cell_type": "code",
   "execution_count": 153,
   "metadata": {
    "scrolled": true
   },
   "outputs": [
    {
     "data": {
      "text/html": [
       "<div>\n",
       "<style scoped>\n",
       "    .dataframe tbody tr th:only-of-type {\n",
       "        vertical-align: middle;\n",
       "    }\n",
       "\n",
       "    .dataframe tbody tr th {\n",
       "        vertical-align: top;\n",
       "    }\n",
       "\n",
       "    .dataframe thead th {\n",
       "        text-align: right;\n",
       "    }\n",
       "</style>\n",
       "<table border=\"1\" class=\"dataframe\">\n",
       "  <thead>\n",
       "    <tr style=\"text-align: right;\">\n",
       "      <th></th>\n",
       "      <th>R</th>\n",
       "      <th>L</th>\n",
       "      <th>E</th>\n",
       "      <th>V</th>\n",
       "    </tr>\n",
       "  </thead>\n",
       "  <tbody>\n",
       "    <tr>\n",
       "      <th>0.0000</th>\n",
       "      <td>1000</td>\n",
       "      <td>0</td>\n",
       "      <td>0</td>\n",
       "      <td>1</td>\n",
       "    </tr>\n",
       "    <tr>\n",
       "      <th>0.1001</th>\n",
       "      <td>999.864</td>\n",
       "      <td>0.0027</td>\n",
       "      <td>0.0243</td>\n",
       "      <td>0.8</td>\n",
       "    </tr>\n",
       "    <tr>\n",
       "      <th>0.2002</th>\n",
       "      <td>999.734</td>\n",
       "      <td>0.00484962</td>\n",
       "      <td>0.0429452</td>\n",
       "      <td>0.883</td>\n",
       "    </tr>\n",
       "    <tr>\n",
       "      <th>0.3003</th>\n",
       "      <td>999.601</td>\n",
       "      <td>0.00721497</td>\n",
       "      <td>0.0629966</td>\n",
       "      <td>1.13585</td>\n",
       "    </tr>\n",
       "    <tr>\n",
       "      <th>0.4004</th>\n",
       "      <td>999.462</td>\n",
       "      <td>0.0102536</td>\n",
       "      <td>0.0885339</td>\n",
       "      <td>1.53865</td>\n",
       "    </tr>\n",
       "  </tbody>\n",
       "</table>\n",
       "</div>"
      ],
      "text/plain": [
       "              R           L          E        V\n",
       "0.0000     1000           0          0        1\n",
       "0.1001  999.864      0.0027     0.0243      0.8\n",
       "0.2002  999.734  0.00484962  0.0429452    0.883\n",
       "0.3003  999.601  0.00721497  0.0629966  1.13585\n",
       "0.4004  999.462   0.0102536  0.0885339  1.53865"
      ]
     },
     "execution_count": 153,
     "metadata": {},
     "output_type": "execute_result"
    }
   ],
   "source": [
    "results = run_simulation(system, update_func)\n",
    "results.head()"
   ]
  },
  {
   "cell_type": "code",
   "execution_count": 154,
   "metadata": {},
   "outputs": [
    {
     "data": {
      "image/png": "[encoded data removed]",
      "text/plain": [
       "<Figure size 432x288 with 1 Axes>"
      ]
     },
     "metadata": {},
     "output_type": "display_data"
    }
   ],
   "source": [
    "plot_results(results.R, results.L, results.E, results.V)"
   ]
  },
  {
   "cell_type": "code",
   "execution_count": 155,
   "metadata": {},
   "outputs": [
    {
     "data": {
      "image/png": "[encoded data removed]",
      "text/plain": [
       "<Figure size 432x288 with 1 Axes>"
      ]
     },
     "metadata": {},
     "output_type": "display_data"
    }
   ],
   "source": [
    "plot(results.V, '-y', label='Free virions')\n",
    "decorate(xlabel='Time (days)',\n",
    "         ylabel='Fraction of population')"
   ]
  },
  {
   "cell_type": "code",
   "execution_count": 156,
   "metadata": {},
   "outputs": [
    {
     "data": {
      "image/png": "[encoded data removed]",
      "text/plain": [
       "<Figure size 432x288 with 1 Axes>"
      ]
     },
     "metadata": {},
     "output_type": "display_data"
    }
   ],
   "source": [
    "plot(results.R, '-r', label='Uninfected lymphocytes')\n",
    "plot(results.L, '-g', label='Latently infected cells')\n",
    "plot(results.E, '-b', label='Actively infected cells')\n",
    "decorate(xlabel='Time (days)',\n",
    "         ylabel='Fraction of population')"
   ]
  },
  {
   "cell_type": "code",
   "execution_count": null,
   "metadata": {},
   "outputs": [],
   "source": []
  }
 ],
 "metadata": {
  "kernelspec": {
   "display_name": "Python 3",
   "language": "python",
   "name": "python3"
  },
  "language_info": {
   "codemirror_mode": {
    "name": "ipython",
    "version": 3
   },
   "file_extension": ".py",
   "mimetype": "text/x-python",
   "name": "python",
   "nbconvert_exporter": "python",
   "pygments_lexer": "ipython3",
   "version": "3.6.5"
  }
 },
 "nbformat": 4,
 "nbformat_minor": 2
}
