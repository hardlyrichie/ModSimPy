{
 "cells": [
  {
   "cell_type": "markdown",
   "metadata": {},
   "source": [
    "# Modeling and Simulation in Python\n",
    "\n",
    "\n",
    "Copyright 2018 Allen Downey\n",
    "\n",
    "License: [Creative Commons Attribution 4.0 International](https://creativecommons.org/licenses/by/4.0)\n"
   ]
  },
  {
   "cell_type": "code",
   "execution_count": 1,
   "metadata": {},
   "outputs": [],
   "source": [
    "# Configure Jupyter so figures appear in the notebook\n",
    "%matplotlib inline\n",
    "\n",
    "# Configure Jupyter to display the assigned value after an assignment\n",
    "%config InteractiveShell.ast_node_interactivity='last_expr_or_assign'\n",
    "\n",
    "# import functions from the modsim.py module\n",
    "from modsim import *"
   ]
  },
  {
   "cell_type": "markdown",
   "metadata": {},
   "source": [
    "## Inferring thermal resistance and thermal mass of a wall\n",
    "\n",
    "This case study is based on Gori, Marincioni, Biddulph, Elwell, \"Inferring the thermal resistance and effective thermal mass distribution of a wall from in situ measurements to characterise heat transfer at both the interior and exterior surfaces\", *Energy and Buildings*, Volume 135, 15 January 2017, Pages 398-409, [which I downloaded here](https://www.sciencedirect.com/science/article/pii/S0378778816313056).\n",
    "    \n",
    "The authors put their paper under a Creative Commons license, and [make their data available here](http://discovery.ucl.ac.uk/1526521).  I thank them for their commitment to open, reproducible science, which made this case study possible.\n",
    "\n",
    "The goal of their paper is to model the thermal behavior of a wall as a step toward understanding the \"performance gap between the expected energy use of buildings and their measured energy use\".  The wall they study is identified as the exterior wall of an office building in central London, [not unlike this one](https://www.google.com/maps/@51.5269375,-0.1303666,3a,75y,90h,88.17t/data=!3m6!1e1!3m4!1sAoAXzN0mbGF9acaVEgUdDA!2e0!7i13312!8i6656).\n",
    "\n",
    "The following figure shows the scenario and their model:\n",
    "\n",
    "![Figure 2](https://ars.els-cdn.com/content/image/1-s2.0-S0378778816313056-gr2.jpg)\n",
    "\n",
    "On the interior and exterior surfaces of the wall, they measure temperature and heat flux over a period of three days.  They model the wall using two thermal masses connected to the surfaces, and to each other, by thermal resistors.\n",
    "\n",
    "The primary methodology of the paper is a Bayesian method for inferring the parameters of the system (two thermal masses and three thermal resistances).\n",
    "\n",
    "The primary result is a comparison of two models: the one shown here with two thermal masses, and a simpler model with only one thermal mass.  They find that the two-mass model is able to reproduce the measured fluxes substantially better.\n",
    "\n",
    "Tempting as it is, I will not replicate their method for estimating the parameters.  Rather, I will\n",
    "\n",
    "1. Implement their model and run it with their estimated parameters, to replicate the results, and \n",
    "\n",
    "2. Use SciPy's `leastsq` to see if I can find parameters that yield lower errors (root mean square).\n",
    "\n",
    "`leastsq` is a wrapper for some venerable FORTRAN code that runs [\"a modification of the Levenberg-Marquardt algorithm\"](https://www.math.utah.edu/software/minpack/minpack/lmdif.html), which is one of my favorites ([really](http://allendowney.com/research/model)).\n",
    "\n",
    "Implementing their model in the ModSimPy framework turns out to be straightforward.  The simulations run fast enough even when we carry units through the computation.  And the results are visually similar to the ones in the original paper.\n",
    "\n",
    "I find that `leastsq` is not able to find parameters that yield substantially better results, which suggest that the estimates in the paper are at least locally optimal.\n"
   ]
  },
  {
   "cell_type": "markdown",
   "metadata": {},
   "source": [
    "### Loading the data\n",
    "\n",
    "First I'll load the units we need from Pint."
   ]
  },
  {
   "cell_type": "code",
   "execution_count": 2,
   "metadata": {},
   "outputs": [
    {
     "data": {
      "text/html": [
       "degC"
      ],
      "text/latex": [
       "$\\mathrm{degC}$"
      ],
      "text/plain": [
       "<Unit('degC')>"
      ]
     },
     "execution_count": 2,
     "metadata": {},
     "output_type": "execute_result"
    }
   ],
   "source": [
    "m = UNITS.meter\n",
    "K = UNITS.kelvin\n",
    "W = UNITS.watt\n",
    "J = UNITS.joule\n",
    "degC = UNITS.celsius"
   ]
  },
  {
   "cell_type": "markdown",
   "metadata": {},
   "source": [
    "Read the data."
   ]
  },
  {
   "cell_type": "code",
   "execution_count": 3,
   "metadata": {},
   "outputs": [
    {
     "data": {
      "text/html": [
       "<div>\n",
       "<style scoped>\n",
       "    .dataframe tbody tr th:only-of-type {\n",
       "        vertical-align: middle;\n",
       "    }\n",
       "\n",
       "    .dataframe tbody tr th {\n",
       "        vertical-align: top;\n",
       "    }\n",
       "\n",
       "    .dataframe thead th {\n",
       "        text-align: right;\n",
       "    }\n",
       "</style>\n",
       "<table border=\"1\" class=\"dataframe\">\n",
       "  <thead>\n",
       "    <tr style=\"text-align: right;\">\n",
       "      <th></th>\n",
       "      <th>Q_in</th>\n",
       "      <th>Q_out</th>\n",
       "      <th>T_int</th>\n",
       "      <th>T_ext</th>\n",
       "    </tr>\n",
       "  </thead>\n",
       "  <tbody>\n",
       "    <tr>\n",
       "      <th>2014-10-05 16:30:00</th>\n",
       "      <td>10.994</td>\n",
       "      <td>6.840</td>\n",
       "      <td>16.92</td>\n",
       "      <td>14.68</td>\n",
       "    </tr>\n",
       "    <tr>\n",
       "      <th>2014-10-05 16:35:00</th>\n",
       "      <td>10.952</td>\n",
       "      <td>6.012</td>\n",
       "      <td>16.92</td>\n",
       "      <td>14.69</td>\n",
       "    </tr>\n",
       "    <tr>\n",
       "      <th>2014-10-05 16:40:00</th>\n",
       "      <td>10.882</td>\n",
       "      <td>7.040</td>\n",
       "      <td>16.93</td>\n",
       "      <td>14.66</td>\n",
       "    </tr>\n",
       "    <tr>\n",
       "      <th>2014-10-05 16:45:00</th>\n",
       "      <td>10.798</td>\n",
       "      <td>8.880</td>\n",
       "      <td>16.93</td>\n",
       "      <td>14.59</td>\n",
       "    </tr>\n",
       "    <tr>\n",
       "      <th>2014-10-05 16:50:00</th>\n",
       "      <td>10.756</td>\n",
       "      <td>10.491</td>\n",
       "      <td>16.94</td>\n",
       "      <td>14.50</td>\n",
       "    </tr>\n",
       "  </tbody>\n",
       "</table>\n",
       "</div>"
      ],
      "text/plain": [
       "                       Q_in   Q_out  T_int  T_ext\n",
       "2014-10-05 16:30:00  10.994   6.840  16.92  14.68\n",
       "2014-10-05 16:35:00  10.952   6.012  16.92  14.69\n",
       "2014-10-05 16:40:00  10.882   7.040  16.93  14.66\n",
       "2014-10-05 16:45:00  10.798   8.880  16.93  14.59\n",
       "2014-10-05 16:50:00  10.756  10.491  16.94  14.50"
      ]
     },
     "execution_count": 3,
     "metadata": {},
     "output_type": "execute_result"
    }
   ],
   "source": [
    "data = pd.read_csv('data/DataOWall.csv', parse_dates=[0], index_col=0, header=0, skiprows=[1,2])\n",
    "data.head()"
   ]
  },
  {
   "cell_type": "markdown",
   "metadata": {},
   "source": [
    "The index contains Pandas `Timestamp` objects, which is good for dealing with real-world dates and times, but not as good for running the simulations, so I'm going to convert to seconds."
   ]
  },
  {
   "cell_type": "code",
   "execution_count": 5,
   "metadata": {},
   "outputs": [
    {
     "data": {
      "text/plain": [
       "Timestamp('2014-10-05 16:30:00')"
      ]
     },
     "execution_count": 5,
     "metadata": {},
     "output_type": "execute_result"
    }
   ],
   "source": [
    "timestamp_0 = get_first_label(data)"
   ]
  },
  {
   "cell_type": "markdown",
   "metadata": {},
   "source": [
    "Subtracting the first `Timestamp` yields `Timedelta` objects:"
   ]
  },
  {
   "cell_type": "code",
   "execution_count": 6,
   "metadata": {},
   "outputs": [
    {
     "data": {
      "text/plain": [
       "TimedeltaIndex(['0 days 00:00:00', '0 days 00:05:00', '0 days 00:10:00',\n",
       "                '0 days 00:15:00', '0 days 00:20:00', '0 days 00:25:00',\n",
       "                '0 days 00:30:00', '0 days 00:35:00', '0 days 00:40:00',\n",
       "                '0 days 00:45:00',\n",
       "                ...\n",
       "                '2 days 23:10:00', '2 days 23:15:00', '2 days 23:20:00',\n",
       "                '2 days 23:25:00', '2 days 23:30:00', '2 days 23:35:00',\n",
       "                '2 days 23:40:00', '2 days 23:45:00', '2 days 23:50:00',\n",
       "                '2 days 23:55:00'],\n",
       "               dtype='timedelta64[ns]', length=864, freq=None)"
      ]
     },
     "execution_count": 6,
     "metadata": {},
     "output_type": "execute_result"
    }
   ],
   "source": [
    "time_deltas = data.index - timestamp_0"
   ]
  },
  {
   "cell_type": "markdown",
   "metadata": {},
   "source": [
    "Then we can convert to seconds and replace the index."
   ]
  },
  {
   "cell_type": "code",
   "execution_count": 7,
   "metadata": {},
   "outputs": [
    {
     "data": {
      "text/html": [
       "<div>\n",
       "<style scoped>\n",
       "    .dataframe tbody tr th:only-of-type {\n",
       "        vertical-align: middle;\n",
       "    }\n",
       "\n",
       "    .dataframe tbody tr th {\n",
       "        vertical-align: top;\n",
       "    }\n",
       "\n",
       "    .dataframe thead th {\n",
       "        text-align: right;\n",
       "    }\n",
       "</style>\n",
       "<table border=\"1\" class=\"dataframe\">\n",
       "  <thead>\n",
       "    <tr style=\"text-align: right;\">\n",
       "      <th></th>\n",
       "      <th>Q_in</th>\n",
       "      <th>Q_out</th>\n",
       "      <th>T_int</th>\n",
       "      <th>T_ext</th>\n",
       "    </tr>\n",
       "  </thead>\n",
       "  <tbody>\n",
       "    <tr>\n",
       "      <th>0</th>\n",
       "      <td>10.994</td>\n",
       "      <td>6.840</td>\n",
       "      <td>16.92</td>\n",
       "      <td>14.68</td>\n",
       "    </tr>\n",
       "    <tr>\n",
       "      <th>300</th>\n",
       "      <td>10.952</td>\n",
       "      <td>6.012</td>\n",
       "      <td>16.92</td>\n",
       "      <td>14.69</td>\n",
       "    </tr>\n",
       "    <tr>\n",
       "      <th>600</th>\n",
       "      <td>10.882</td>\n",
       "      <td>7.040</td>\n",
       "      <td>16.93</td>\n",
       "      <td>14.66</td>\n",
       "    </tr>\n",
       "    <tr>\n",
       "      <th>900</th>\n",
       "      <td>10.798</td>\n",
       "      <td>8.880</td>\n",
       "      <td>16.93</td>\n",
       "      <td>14.59</td>\n",
       "    </tr>\n",
       "    <tr>\n",
       "      <th>1200</th>\n",
       "      <td>10.756</td>\n",
       "      <td>10.491</td>\n",
       "      <td>16.94</td>\n",
       "      <td>14.50</td>\n",
       "    </tr>\n",
       "  </tbody>\n",
       "</table>\n",
       "</div>"
      ],
      "text/plain": [
       "        Q_in   Q_out  T_int  T_ext\n",
       "0     10.994   6.840  16.92  14.68\n",
       "300   10.952   6.012  16.92  14.69\n",
       "600   10.882   7.040  16.93  14.66\n",
       "900   10.798   8.880  16.93  14.59\n",
       "1200  10.756  10.491  16.94  14.50"
      ]
     },
     "execution_count": 7,
     "metadata": {},
     "output_type": "execute_result"
    }
   ],
   "source": [
    "data.index = time_deltas.days * 86400 + time_deltas.seconds\n",
    "data.head()"
   ]
  },
  {
   "cell_type": "markdown",
   "metadata": {},
   "source": [
    "The timesteps are all 5 minutes:"
   ]
  },
  {
   "cell_type": "code",
   "execution_count": 8,
   "metadata": {},
   "outputs": [
    {
     "data": {
      "text/plain": [
       "True"
      ]
     },
     "execution_count": 8,
     "metadata": {},
     "output_type": "execute_result"
    }
   ],
   "source": [
    "np.all(np.diff(data.index) == 300)"
   ]
  },
  {
   "cell_type": "markdown",
   "metadata": {},
   "source": [
    "Mark the columns of the `Dataframe` with units."
   ]
  },
  {
   "cell_type": "code",
   "execution_count": 9,
   "metadata": {},
   "outputs": [],
   "source": [
    "data.Q_in.units = W / m**2\n",
    "data.Q_out.units = W / m**2\n",
    "data.T_int.units = degC\n",
    "data.T_ext.units = degC"
   ]
  },
  {
   "cell_type": "markdown",
   "metadata": {},
   "source": [
    "Plot the measured fluxes."
   ]
  },
  {
   "cell_type": "code",
   "execution_count": 10,
   "metadata": {},
   "outputs": [
    {
     "data": {
      "image/png": "[encoded data removed]",
      "text/plain": [
       "<Figure size 432x288 with 1 Axes>"
      ]
     },
     "metadata": {},
     "output_type": "display_data"
    }
   ],
   "source": [
    "plot(data.Q_in, color='C2')\n",
    "plot(data.Q_out, color='C0')\n",
    "decorate(xlabel='Time (s)',\n",
    "         ylabel='Heat flux (W/$m^2$)')"
   ]
  },
  {
   "cell_type": "markdown",
   "metadata": {},
   "source": [
    "Plot the measured temperatures."
   ]
  },
  {
   "cell_type": "code",
   "execution_count": 11,
   "metadata": {},
   "outputs": [
    {
     "data": {
      "image/png": "[encoded data removed]",
      "text/plain": [
       "<Figure size 432x288 with 1 Axes>"
      ]
     },
     "metadata": {},
     "output_type": "display_data"
    }
   ],
   "source": [
    "plot(data.T_int, color='C2')\n",
    "plot(data.T_ext, color='C0')\n",
    "decorate(xlabel='Time (s)',\n",
    "         ylabel='Temperature (degC)')"
   ]
  },
  {
   "cell_type": "markdown",
   "metadata": {},
   "source": [
    "### Params and System objects\n",
    "\n",
    "Here's a `Params` object with the [estimated parameters from the paper](https://www.sciencedirect.com/science/article/pii/S0378778816313056#tbl0005)."
   ]
  },
  {
   "cell_type": "code",
   "execution_count": 11,
   "metadata": {},
   "outputs": [],
   "source": [
    "params = Params(\n",
    "    R1 = 0.076 * m**2 * K / W,\n",
    "    R2 = 0.272 * m**2 * K / W,\n",
    "    R3 = 0.078 * m**2 * K / W,\n",
    "    C1 = 212900 * J / m**2 / K,\n",
    "    C2 = 113100 * J / m**2 / K)"
   ]
  },
  {
   "cell_type": "markdown",
   "metadata": {},
   "source": [
    "Pass the `Params` object `make_system`, which computes `init`, packs the parameters into `Series` objects, and computes the interpolation functions.\n"
   ]
  },
  {
   "cell_type": "code",
   "execution_count": 12,
   "metadata": {},
   "outputs": [],
   "source": [
    "def make_system(params, data):\n",
    "    \"\"\"Makes a System object for the given conditions.\n",
    "    \n",
    "    params: Params object\n",
    "    \n",
    "    returns: System object\n",
    "    \"\"\"\n",
    "    R1, R2, R3, C1, C2 = params\n",
    "    \n",
    "    init = State(T_C1 = Quantity(16.11, degC),\n",
    "                 T_C2 = Quantity(15.27, degC))\n",
    "    \n",
    "    ts = data.index\n",
    "    t_end = ts[-1]\n",
    "    \n",
    "    return System(init=init,\n",
    "                  R=Series([R1, R2, R3]),\n",
    "                  C=Series([C1, C2]),\n",
    "                  T_int_func=interpolate(data.T_int),\n",
    "                  T_ext_func=interpolate(data.T_ext),\n",
    "                  t_end=t_end, ts=ts)"
   ]
  },
  {
   "cell_type": "markdown",
   "metadata": {},
   "source": [
    "Make a `System` object"
   ]
  },
  {
   "cell_type": "code",
   "execution_count": 13,
   "metadata": {},
   "outputs": [],
   "source": [
    "system = make_system(params, data)"
   ]
  },
  {
   "cell_type": "markdown",
   "metadata": {},
   "source": [
    "Test the interpolation function:"
   ]
  },
  {
   "cell_type": "code",
   "execution_count": 14,
   "metadata": {},
   "outputs": [],
   "source": [
    "system.T_ext_func(0), system.T_ext_func(150), system.T_ext_func(300)"
   ]
  },
  {
   "cell_type": "markdown",
   "metadata": {},
   "source": [
    "### Implementing the model\n",
    "\n",
    "Next we need a slope function that takes instantaneous values of the two internal temperatures and computes their time rates of change.\n",
    "\n",
    "The slope function gets called two ways.\n",
    "\n",
    "* When we call it directly, `state` is a `State` object and the values it contains have units.\n",
    "\n",
    "* When `run_ode_solver` calls it, `state` is an array and the values it contains don't have units.\n",
    "\n",
    "In the second case, we have to apply the units before attempting the computation.  `require_units` applies units if necessary:"
   ]
  },
  {
   "cell_type": "markdown",
   "metadata": {},
   "source": [
    "The following function computes the fluxes between the four zones."
   ]
  },
  {
   "cell_type": "code",
   "execution_count": 16,
   "metadata": {},
   "outputs": [],
   "source": [
    "def compute_flux(state, t, system):\n",
    "    \"\"\"Compute the fluxes between the walls surfaces and the internal masses.\n",
    "    \n",
    "    state: State with T_C1 and T_C2\n",
    "    t: time in seconds\n",
    "    system: System with interpolated measurements and the R Series\n",
    "    \n",
    "    returns: Series of fluxes\n",
    "    \"\"\"\n",
    "    # unpack the temperatures and apply units\n",
    "    T_C1, T_C2 = state\n",
    "    T_C1 = require_units(T_C1, degC)\n",
    "    T_C2 = require_units(T_C2, degC)\n",
    "        \n",
    "    # compute a series of temperatures from inside out\n",
    "    T_int = system.T_int_func(t)\n",
    "    T_ext = system.T_ext_func(t)\n",
    "    T = Series([T_int, T_C1, T_C2, T_ext])\n",
    "    \n",
    "    # compute differences of adjacent temperatures\n",
    "    T_diff = np.diff(T)\n",
    "\n",
    "    # compute fluxes between adjacent compartments\n",
    "    Q = T_diff / system.R\n",
    "    return Q"
   ]
  },
  {
   "cell_type": "markdown",
   "metadata": {},
   "source": [
    "We can test it like this."
   ]
  },
  {
   "cell_type": "code",
   "execution_count": 17,
   "metadata": {},
   "outputs": [],
   "source": [
    "compute_flux(system.init, 0, system)"
   ]
  },
  {
   "cell_type": "markdown",
   "metadata": {},
   "source": [
    "Here's a slope function that computes derivatives of `T_C1` and `T_C2`"
   ]
  },
  {
   "cell_type": "code",
   "execution_count": 18,
   "metadata": {},
   "outputs": [],
   "source": [
    "def slope_func(state, t, system):\n",
    "    \"\"\"Compute derivatives of the state.\n",
    "    \n",
    "    state: position, velocity\n",
    "    t: time\n",
    "    system: System object\n",
    "    \n",
    "    returns: derivatives of y and v\n",
    "    \"\"\"\n",
    "    Q = compute_flux(state, t, system)\n",
    "\n",
    "    # compute the net flux in each node\n",
    "    Q_diff = np.diff(Q)\n",
    "        \n",
    "    # compute the rate of change of temperature\n",
    "    dQdt = Q_diff / system.C\n",
    "    return dQdt"
   ]
  },
  {
   "cell_type": "markdown",
   "metadata": {},
   "source": [
    "Test the slope function with the initial conditions."
   ]
  },
  {
   "cell_type": "code",
   "execution_count": 19,
   "metadata": {},
   "outputs": [],
   "source": [
    "slope_func(system.init, system.ts[1], system)"
   ]
  },
  {
   "cell_type": "markdown",
   "metadata": {},
   "source": [
    "Run the simulation, generating estimates for the time steps in the data."
   ]
  },
  {
   "cell_type": "code",
   "execution_count": 20,
   "metadata": {},
   "outputs": [],
   "source": [
    "results, details = run_ode_solver(system, slope_func, t_eval=system.ts)\n",
    "details"
   ]
  },
  {
   "cell_type": "markdown",
   "metadata": {},
   "source": [
    "Here's what the results look like."
   ]
  },
  {
   "cell_type": "code",
   "execution_count": 21,
   "metadata": {},
   "outputs": [],
   "source": [
    "results.head()"
   ]
  },
  {
   "cell_type": "code",
   "execution_count": 22,
   "metadata": {},
   "outputs": [],
   "source": [
    "def plot_results(results, data):\n",
    "    plot(data.T_int, color='C2')\n",
    "    plot(results.T_C1, color='orange')\n",
    "    plot(results.T_C2, color='C1')\n",
    "    plot(data.T_ext, color='C0')\n",
    "    decorate(xlabel='Time (s)',\n",
    "             ylabel='Temperature (degC)')\n",
    "    \n",
    "plot_results(results, data)"
   ]
  },
  {
   "cell_type": "markdown",
   "metadata": {},
   "source": [
    "These results are similar to what's in the paper:\n",
    "\n",
    "![Figure 5](https://ars.els-cdn.com/content/image/1-s2.0-S0378778816313056-gr5.jpg).  \n",
    "\n",
    "To get the estimated fluxes, we have to go through the results and basically do the flux calculation again."
   ]
  },
  {
   "cell_type": "code",
   "execution_count": 23,
   "metadata": {},
   "outputs": [],
   "source": [
    "def recompute_fluxes(results, system):\n",
    "    \"\"\"Compute fluxes between wall surfaces and internal masses.\n",
    "    \n",
    "    results: Timeframe with T_C1 and T_C2\n",
    "    system: System object\n",
    "    \n",
    "    returns: Timeframe with Qm_in and Qm_out\n",
    "    \"\"\"\n",
    "    Q_frame = TimeFrame(index=results.index, columns=['Qm_in', 'Qm_out'])\n",
    "    \n",
    "    for t, row in results.iterrows():\n",
    "        Q = compute_flux(row, t, system)\n",
    "        \n",
    "        Q_frame.row[t] = (-Q[0].magnitude, \n",
    "                          -Q[2].magnitude)\n",
    "        \n",
    "    return Q_frame\n",
    "            \n",
    "Q_frame = recompute_fluxes(results, system)\n",
    "Q_frame.head()"
   ]
  },
  {
   "cell_type": "markdown",
   "metadata": {},
   "source": [
    "Let's see how the estimates compare to the data."
   ]
  },
  {
   "cell_type": "code",
   "execution_count": 24,
   "metadata": {},
   "outputs": [],
   "source": [
    "def plot_Q_in(Q_frame, data):\n",
    "    plot(Q_frame.Qm_in, color='gray')\n",
    "    plot(data.Q_in, color='C2')\n",
    "    decorate(xlabel='Time (s)',\n",
    "             ylabel='Heat flux (W/$m^2$)')\n",
    "    \n",
    "plot_Q_in(Q_frame, data)"
   ]
  },
  {
   "cell_type": "code",
   "execution_count": 25,
   "metadata": {},
   "outputs": [],
   "source": [
    "def plot_Q_out(Q_frame, data):\n",
    "    plot(Q_frame.Qm_out, color='gray')\n",
    "    plot(data.Q_out, color='C0')\n",
    "    decorate(xlabel='Time (s)',\n",
    "             ylabel='Heat flux (W/$m^2$)')\n",
    "    \n",
    "plot_Q_out(Q_frame, data)"
   ]
  },
  {
   "cell_type": "markdown",
   "metadata": {},
   "source": [
    "These results are also similar to what's in the paper (the bottom row):\n",
    "\n",
    "![Figure 3](https://ars.els-cdn.com/content/image/1-s2.0-S0378778816313056-gr3.jpg)\n",
    "\n",
    "I'll compute the array of errors, including `Q_in` and `Q_out`:"
   ]
  },
  {
   "cell_type": "code",
   "execution_count": 26,
   "metadata": {},
   "outputs": [],
   "source": [
    "def compute_error(Q_frame, data):\n",
    "    error_Q_in = (Q_frame.Qm_in - data.Q_in).astype(float)\n",
    "    error_Q_out = (Q_frame.Qm_out - data.Q_out).astype(float)\n",
    "    return np.hstack([error_Q_in, error_Q_out])"
   ]
  },
  {
   "cell_type": "code",
   "execution_count": 27,
   "metadata": {},
   "outputs": [],
   "source": [
    "errors = compute_error(Q_frame, data)"
   ]
  },
  {
   "cell_type": "markdown",
   "metadata": {},
   "source": [
    "Here's the root mean squared error."
   ]
  },
  {
   "cell_type": "code",
   "execution_count": 28,
   "metadata": {},
   "outputs": [],
   "source": [
    "print(np.sqrt(np.mean(errors**2)))"
   ]
  },
  {
   "cell_type": "markdown",
   "metadata": {},
   "source": [
    "### Estimating parameters"
   ]
  },
  {
   "cell_type": "markdown",
   "metadata": {},
   "source": [
    "Now let's see if we can do any better than the parameters in the paper."
   ]
  },
  {
   "cell_type": "code",
   "execution_count": 125,
   "metadata": {},
   "outputs": [],
   "source": [
    "params = Params(\n",
    "    R1 = 0.076 * m**2 * K / W,\n",
    "    R2 = 0.272 * m**2 * K / W,\n",
    "    R3 = 0.078 * m**2 * K / W,\n",
    "    C1 = 212900 * J / m**2 / K,\n",
    "    C2 = 113100 * J / m**2 / K)"
   ]
  },
  {
   "cell_type": "markdown",
   "metadata": {},
   "source": [
    "Here's an error function that takes a hypothetical set of parameters, runs the simulation, and returns an array of errors."
   ]
  },
  {
   "cell_type": "code",
   "execution_count": 126,
   "metadata": {},
   "outputs": [],
   "source": [
    "def error_func(params, data):\n",
    "    \"\"\"Run a simulation and return an array of errors.\n",
    "    \n",
    "    params: Params object or array\n",
    "    data: DataFrame\n",
    "    \n",
    "    returns: array of float\n",
    "    \"\"\"\n",
    "    print(params)\n",
    "    system = make_system(params, data)\n",
    "    results, details = run_ode_solver(system, slope_func, t_eval=system.ts)\n",
    "    Q_frame = recompute_fluxes(results, system)\n",
    "    errors = compute_error(Q_frame, data)\n",
    "    print('RMSE', np.sqrt(np.mean(errors**2)))\n",
    "    return errors"
   ]
  },
  {
   "cell_type": "markdown",
   "metadata": {},
   "source": [
    "Testing `error_func`."
   ]
  },
  {
   "cell_type": "code",
   "execution_count": 127,
   "metadata": {},
   "outputs": [],
   "source": [
    "errors = error_func(params, data)"
   ]
  },
  {
   "cell_type": "markdown",
   "metadata": {},
   "source": [
    "Pass `error_func` to `fit_leastsq` to see if it can do any better."
   ]
  },
  {
   "cell_type": "code",
   "execution_count": 124,
   "metadata": {},
   "outputs": [],
   "source": [
    "best_params, details = fit_leastsq(error_func, params, data)"
   ]
  },
  {
   "cell_type": "markdown",
   "metadata": {},
   "source": [
    "The search ends normally."
   ]
  },
  {
   "cell_type": "code",
   "execution_count": 123,
   "metadata": {},
   "outputs": [],
   "source": [
    "details"
   ]
  },
  {
   "cell_type": "code",
   "execution_count": 119,
   "metadata": {},
   "outputs": [],
   "source": [
    "details.mesg"
   ]
  },
  {
   "cell_type": "markdown",
   "metadata": {},
   "source": [
    "The best params are only slightly different from the starting place. "
   ]
  },
  {
   "cell_type": "code",
   "execution_count": 120,
   "metadata": {},
   "outputs": [],
   "source": [
    "best_params"
   ]
  },
  {
   "cell_type": "markdown",
   "metadata": {},
   "source": [
    "Here's what the results look like with the `best_params`."
   ]
  },
  {
   "cell_type": "code",
   "execution_count": 121,
   "metadata": {},
   "outputs": [],
   "source": [
    "system = make_system(best_params, data)\n",
    "results, details = run_ode_solver(system, slope_func, t_eval=system.ts)\n",
    "Q_frame = recompute_fluxes(results, system)\n",
    "errors = compute_error(Q_frame, data)\n",
    "print(np.sqrt(np.mean(errors**2)))"
   ]
  },
  {
   "cell_type": "markdown",
   "metadata": {},
   "source": [
    "The RMS error is only slightly smaller.\n",
    "\n",
    "And the results are visually similar."
   ]
  },
  {
   "cell_type": "code",
   "execution_count": 85,
   "metadata": {},
   "outputs": [],
   "source": [
    "plot_Q_in(Q_frame, data)"
   ]
  },
  {
   "cell_type": "code",
   "execution_count": 86,
   "metadata": {},
   "outputs": [],
   "source": [
    "plot_Q_out(Q_frame, data)"
   ]
  },
  {
   "cell_type": "markdown",
   "metadata": {},
   "source": [
    "**Exercise:** Try starting the model with a different set of parameters and see if it moves toward the parameters in the paper.\n",
    "\n",
    "I found that no matter where I start, `fit_leastsq` doesn't move far, which suggests that it is not able to optimize the parameters effectively."
   ]
  },
  {
   "cell_type": "markdown",
   "metadata": {},
   "source": [
    "### Notes\n",
    "\n",
    "Notes on working with degC.\n",
    "\n",
    "Usually I construct a `Quantity` object by multiplying a number and a unit.  With degC, that doesn't work; you get  `OffsetUnitCalculusError: Ambiguous operation with offset unit (degC).`"
   ]
  },
  {
   "cell_type": "code",
   "execution_count": 63,
   "metadata": {},
   "outputs": [],
   "source": [
    "#16.11 * C "
   ]
  },
  {
   "cell_type": "markdown",
   "metadata": {},
   "source": [
    "The problem seems to be that it doesn't know whether you want a temperature measurement or a temperature difference.\n",
    "\n",
    "You can create a temperature measurement like this."
   ]
  },
  {
   "cell_type": "code",
   "execution_count": 38,
   "metadata": {},
   "outputs": [],
   "source": [
    "T = Quantity(16.11, degC)"
   ]
  },
  {
   "cell_type": "markdown",
   "metadata": {},
   "source": [
    "If you convert to Kelvin, it does the right thing."
   ]
  },
  {
   "cell_type": "code",
   "execution_count": 39,
   "metadata": {},
   "outputs": [],
   "source": [
    "T.to(K)"
   ]
  },
  {
   "cell_type": "markdown",
   "metadata": {},
   "source": [
    "When you subtract temperatures, the results is a temperature difference, indicated by the units."
   ]
  },
  {
   "cell_type": "code",
   "execution_count": 40,
   "metadata": {},
   "outputs": [],
   "source": [
    "diff = T - 273.15 * K"
   ]
  },
  {
   "cell_type": "markdown",
   "metadata": {},
   "source": [
    "If you convert a temperature difference to Kelvin, it does the right thing."
   ]
  },
  {
   "cell_type": "code",
   "execution_count": 41,
   "metadata": {},
   "outputs": [],
   "source": [
    "diff.to(K)"
   ]
  },
  {
   "cell_type": "code",
   "execution_count": null,
   "metadata": {},
   "outputs": [],
   "source": []
  }
 ],
 "metadata": {
  "kernelspec": {
   "display_name": "Python 3",
   "language": "python",
   "name": "python3"
  },
  "language_info": {
   "codemirror_mode": {
    "name": "ipython",
    "version": 3
   },
   "file_extension": ".py",
   "mimetype": "text/x-python",
   "name": "python",
   "nbconvert_exporter": "python",
   "pygments_lexer": "ipython3",
   "version": "3.6.5"
  }
 },
 "nbformat": 4,
 "nbformat_minor": 2
}
